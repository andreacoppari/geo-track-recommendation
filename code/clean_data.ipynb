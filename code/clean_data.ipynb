{
 "cells": [
  {
   "cell_type": "code",
   "execution_count": 2,
   "metadata": {},
   "outputs": [],
   "source": [
    "import json"
   ]
  },
  {
   "cell_type": "code",
   "execution_count": 6,
   "metadata": {},
   "outputs": [],
   "source": [
    "# filter + clean raw export\n",
    "\n",
    "with open(\"./data/export.geojson\", \"+r\") as fp:\n",
    "\n",
    "    input_json = json.load(fp)\n",
    "\n",
    "with open(\"./data/export_clean.geojson\", \"+w\", encoding=\"utf-8\") as op:\n",
    "\n",
    "    output_json = []\n",
    "\n",
    "    for feature in input_json[\"features\"]:\n",
    "        properties = {\n",
    "            \"id\": feature[\"properties\"].get(\"@id\", None),\n",
    "            \"ascent\": feature[\"properties\"].get(\"ascent\", None),\n",
    "            \"descent\": feature[\"properties\"].get(\"descent\", None),\n",
    "            \"distance\": feature[\"properties\"].get(\"distance\", None),\n",
    "            \"duration:backward\": feature[\"properties\"].get(\"duration:backward\", None),\n",
    "            \"duration:forward\": feature[\"properties\"].get(\"duration:forward\", None),\n",
    "            \"operator\": feature[\"properties\"].get(\"operator\", None),\n",
    "            \"ref\": feature[\"properties\"].get(\"ref\", None),\n",
    "            \"route\": feature[\"properties\"].get(\"route\", None),\n",
    "            \"source\": feature[\"properties\"].get(\"source\", None)\n",
    "        }\n",
    "        if properties[\"id\"][0] != 'n' and properties[\"distance\"] is not None: output_json.append(properties)\n",
    "\n",
    "    json.dump(output_json, op, indent=4)"
   ]
  },
  {
   "cell_type": "code",
   "execution_count": 6,
   "metadata": {},
   "outputs": [],
   "source": [
    "# remove dots from distances\n",
    "\n",
    "def remove_dots(tracks):\n",
    "    updated_tracks = []\n",
    "    for track in tracks:\n",
    "        if '.' in track[\"distance\"]:\n",
    "            track[\"distance\"] = str(int(float(track[\"distance\"])*1000))\n",
    "\n",
    "        updated_tracks.append(track)\n",
    "    return updated_tracks\n",
    "\n",
    "with open(\"./data/export_clean.geojson\", \"+r\") as fp:\n",
    "    data = json.load(fp)\n",
    "\n",
    "with open(\"./data/export_clean.geojson\", \"+w\") as op:\n",
    "    updated = remove_dots(data)\n",
    "    json.dump(updated, op, indent=4)"
   ]
  },
  {
   "cell_type": "code",
   "execution_count": 8,
   "metadata": {},
   "outputs": [],
   "source": [
    "# create track - description pairs\n",
    "\n",
    "with open(\"./data/export_clean.geojson\", \"+r\") as fp:\n",
    "    tracks = json.load(fp)\n",
    "\n",
    "with open(\"./data/track_description.geojson\", \"+w\") as op:\n",
    "    out = {}\n",
    "    out[\"tracks\"] = tracks\n",
    "    out[\"descriptions\"] = []\n",
    "\n",
    "    json.dump(out, op, indent=4)"
   ]
  },
  {
   "cell_type": "code",
   "execution_count": 2,
   "metadata": {},
   "outputs": [
    {
     "name": "stdout",
     "output_type": "stream",
     "text": [
      "Tracks: 100\n",
      "Descriptions: 100\n"
     ]
    }
   ],
   "source": [
    "import json\n",
    "\n",
    "with open(\"./data/dataset_eng.json\", \"+r\") as fp:\n",
    "    data = json.load(fp)\n",
    "\n",
    "    print(f\"Tracks: {len(data['tracks'])}\")\n",
    "    print(f\"Descriptions: {len(data['descriptions'])}\")"
   ]
  }
 ],
 "metadata": {
  "kernelspec": {
   "display_name": "elsr",
   "language": "python",
   "name": "python3"
  },
  "language_info": {
   "codemirror_mode": {
    "name": "ipython",
    "version": 3
   },
   "file_extension": ".py",
   "mimetype": "text/x-python",
   "name": "python",
   "nbconvert_exporter": "python",
   "pygments_lexer": "ipython3",
   "version": "3.9.12"
  }
 },
 "nbformat": 4,
 "nbformat_minor": 2
}
